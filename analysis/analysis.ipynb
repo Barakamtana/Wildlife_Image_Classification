{
 "cells": [
  {
   "cell_type": "code",
   "execution_count": null,
   "id": "fc66409d",
   "metadata": {},
   "outputs": [],
   "source": [
    "import warnings\n",
    "warnings.simplefilter(action='ignore', category=FutureWarning)\n",
    "\n",
    "import pandas as pd\n",
    "from zipfile import ZipFile\n",
    "\n",
    "\n",
    "import multiprocessing"
   ]
  }
 ],
 "metadata": {
  "kernelspec": {
   "display_name": "conda-img",
   "language": "python",
   "name": "python3"
  },
  "language_info": {
   "name": "python",
   "version": "3.11.11"
  }
 },
 "nbformat": 4,
 "nbformat_minor": 5
}
